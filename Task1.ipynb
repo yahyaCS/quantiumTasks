{
 "cells": [
  {
   "cell_type": "code",
   "execution_count": 39,
   "id": "2a9d251d-7f27-419b-884d-b054c7995caa",
   "metadata": {},
   "outputs": [],
   "source": [
    "import pandas as pd\n",
    "\n",
    "transactionData = 'QVI_transaction_data.xlsx'\n",
    "df_transactionData = pd.read_excel(transactionData)\n",
    "\n",
    "customerData = 'QVI_purchase_behaviour.csv'\n",
    "df_customerData = pd.read_csv(customerData)"
   ]
  },
  {
   "cell_type": "code",
   "execution_count": 43,
   "id": "7141c31e-f284-4143-a1ba-21d89f545fd0",
   "metadata": {},
   "outputs": [
    {
     "name": "stdout",
     "output_type": "stream",
     "text": [
      "Numeric Check for Transaction Data:\n",
      "        STORE_NBR  LYLTY_CARD_NBR  TXN_ID  PROD_NBR  PROD_QTY  TOT_SALES\n",
      "0            True            True    True      True      True       True\n",
      "1            True            True    True      True      True       True\n",
      "2            True            True    True      True      True       True\n",
      "3            True            True    True      True      True       True\n",
      "4            True            True    True      True      True       True\n",
      "...           ...             ...     ...       ...       ...        ...\n",
      "264831       True            True    True      True      True       True\n",
      "264832       True            True    True      True      True       True\n",
      "264833       True            True    True      True      True       True\n",
      "264834       True            True    True      True      True       True\n",
      "264835       True            True    True      True      True       True\n",
      "\n",
      "[264836 rows x 6 columns]\n",
      "\n",
      "Date Format Check for Transaction Data:\n",
      "0        2018-10-17\n",
      "1        2019-05-14\n",
      "2        2019-05-20\n",
      "3        2018-08-17\n",
      "4        2018-08-18\n",
      "            ...    \n",
      "264831   2019-03-09\n",
      "264832   2018-08-13\n",
      "264833   2018-11-06\n",
      "264834   2018-12-27\n",
      "264835   2018-09-22\n",
      "Name: DATE, Length: 264836, dtype: datetime64[ns]\n"
     ]
    }
   ],
   "source": [
    "import pandas as pd\n",
    "\n",
    "numeric_columns = ['STORE_NBR', 'LYLTY_CARD_NBR', 'TXN_ID', 'PROD_NBR', 'PROD_QTY', 'TOT_SALES']  \n",
    "\n",
    "date_columns = ['DATE']  \n",
    "\n",
    "numeric_check = df_transactionData[numeric_columns].applymap(lambda x: isinstance(x, (int, float)))\n",
    "\n",
    "date_check = pd.to_datetime(df['DATE'], errors='coerce', format='%Y-%m-%d')\n",
    "\n",
    "print(\"Numeric Check for Transaction Data:\")\n",
    "print(numeric_check)\n",
    "\n",
    "print(\"\\nDate Format Check for Transaction Data:\")\n",
    "print(date_check)\n"
   ]
  },
  {
   "cell_type": "code",
   "execution_count": 44,
   "id": "1e7a267a-8891-4778-81b3-5b869b75b5ba",
   "metadata": {},
   "outputs": [
    {
     "name": "stdout",
     "output_type": "stream",
     "text": [
      "Summary of PROD_NAME:\n",
      "PROD_NAME\n",
      "Kettle Mozzarella   Basil & Pesto 175g      3304\n",
      "Kettle Tortilla ChpsHny&Jlpno Chili 150g    3296\n",
      "Cobs Popd Swt/Chlli &Sr/Cream Chips 110g    3269\n",
      "Tyrrells Crisps     Ched & Chives 165g      3268\n",
      "Cobs Popd Sea Salt  Chips 110g              3265\n",
      "                                            ... \n",
      "RRD Pc Sea Salt     165g                    1431\n",
      "Woolworths Medium   Salsa 300g              1430\n",
      "NCC Sour Cream &    Garden Chives 175g      1419\n",
      "French Fries Potato Chips 175g              1418\n",
      "WW Crinkle Cut      Original 175g           1410\n",
      "Name: count, Length: 114, dtype: int64\n"
     ]
    }
   ],
   "source": [
    "product_summary = df['PROD_NAME'].value_counts()\n",
    "\n",
    "print(\"Summary of PROD_NAME:\")\n",
    "print(product_summary)"
   ]
  },
  {
   "cell_type": "code",
   "execution_count": 45,
   "id": "bce2c183-01a1-4c39-9e49-b381903cbbde",
   "metadata": {},
   "outputs": [
    {
     "name": "stdout",
     "output_type": "stream",
     "text": [
      "Sorted Words by Frequency:\n",
      "         word  frequency\n",
      "0        175g      60561\n",
      "1       Chips      49770\n",
      "2        150g      41633\n",
      "3      Kettle      41288\n",
      "4      Smiths      28860\n",
      "..        ...        ...\n",
      "220  Sunbites       1432\n",
      "221        Pc       1431\n",
      "222    Garden       1419\n",
      "223       NCC       1419\n",
      "224     Fries       1418\n",
      "\n",
      "[225 rows x 2 columns]\n"
     ]
    }
   ],
   "source": [
    "import pandas as pd\n",
    "import re\n",
    "\n",
    "product_words = ' '.join(df['PROD_NAME'].str.replace('[^a-zA-Z\\s]', '').str.split().sum())\n",
    "\n",
    "product_words = ' '.join(re.findall(r'\\b\\w+\\b', product_words))\n",
    "\n",
    "word_counts = pd.Series(product_words.split()).value_counts().reset_index()\n",
    "word_counts.columns = ['word', 'frequency']\n",
    "\n",
    "sorted_words = word_counts.sort_values(by='frequency', ascending=False)\n",
    "\n",
    "print(\"Sorted Words by Frequency:\")\n",
    "print(sorted_words)\n"
   ]
  },
  {
   "cell_type": "code",
   "execution_count": null,
   "id": "acde476a-dca4-4a13-9f41-8708300a9ab8",
   "metadata": {},
   "outputs": [],
   "source": []
  }
 ],
 "metadata": {
  "kernelspec": {
   "display_name": "Python 3 (ipykernel)",
   "language": "python",
   "name": "python3"
  },
  "language_info": {
   "codemirror_mode": {
    "name": "ipython",
    "version": 3
   },
   "file_extension": ".py",
   "mimetype": "text/x-python",
   "name": "python",
   "nbconvert_exporter": "python",
   "pygments_lexer": "ipython3",
   "version": "3.11.5"
  }
 },
 "nbformat": 4,
 "nbformat_minor": 5
}
