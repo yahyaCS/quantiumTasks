{
 "cells": [
  {
   "cell_type": "code",
   "execution_count": 39,
   "id": "2a9d251d-7f27-419b-884d-b054c7995caa",
   "metadata": {},
   "outputs": [],
   "source": [
    "import pandas as pd\n",
    "\n",
    "transactionData = 'QVI_transaction_data.xlsx'\n",
    "df_transactionData = pd.read_excel(transactionData)\n",
    "\n",
    "customerData = 'QVI_purchase_behaviour.csv'\n",
    "df_customerData = pd.read_csv(customerData)"
   ]
  },
  {
   "cell_type": "code",
   "execution_count": 43,
   "id": "7141c31e-f284-4143-a1ba-21d89f545fd0",
   "metadata": {},
   "outputs": [
    {
     "name": "stdout",
     "output_type": "stream",
     "text": [
      "Numeric Check for Transaction Data:\n",
      "        STORE_NBR  LYLTY_CARD_NBR  TXN_ID  PROD_NBR  PROD_QTY  TOT_SALES\n",
      "0            True            True    True      True      True       True\n",
      "1            True            True    True      True      True       True\n",
      "2            True            True    True      True      True       True\n",
      "3            True            True    True      True      True       True\n",
      "4            True            True    True      True      True       True\n",
      "...           ...             ...     ...       ...       ...        ...\n",
      "264831       True            True    True      True      True       True\n",
      "264832       True            True    True      True      True       True\n",
      "264833       True            True    True      True      True       True\n",
      "264834       True            True    True      True      True       True\n",
      "264835       True            True    True      True      True       True\n",
      "\n",
      "[264836 rows x 6 columns]\n",
      "\n",
      "Date Format Check for Transaction Data:\n",
      "0        2018-10-17\n",
      "1        2019-05-14\n",
      "2        2019-05-20\n",
      "3        2018-08-17\n",
      "4        2018-08-18\n",
      "            ...    \n",
      "264831   2019-03-09\n",
      "264832   2018-08-13\n",
      "264833   2018-11-06\n",
      "264834   2018-12-27\n",
      "264835   2018-09-22\n",
      "Name: DATE, Length: 264836, dtype: datetime64[ns]\n"
     ]
    }
   ],
   "source": [
    "numeric_columns = ['STORE_NBR', 'LYLTY_CARD_NBR', 'TXN_ID', 'PROD_NBR', 'PROD_QTY', 'TOT_SALES']  \n",
    "\n",
    "date_columns = ['DATE']  \n",
    "\n",
    "numeric_check = df_transactionData[numeric_columns].applymap(lambda x: isinstance(x, (int, float)))\n",
    "\n",
    "date_check = pd.to_datetime(df['DATE'], errors='coerce', format='%Y-%m-%d')\n",
    "\n",
    "print(\"Numeric Check for Transaction Data:\")\n",
    "print(numeric_check)\n",
    "\n",
    "print(\"\\nDate Format Check for Transaction Data:\")\n",
    "print(date_check)\n"
   ]
  },
  {
   "cell_type": "code",
   "execution_count": 44,
   "id": "1e7a267a-8891-4778-81b3-5b869b75b5ba",
   "metadata": {},
   "outputs": [
    {
     "name": "stdout",
     "output_type": "stream",
     "text": [
      "Summary of PROD_NAME:\n",
      "PROD_NAME\n",
      "Kettle Mozzarella   Basil & Pesto 175g      3304\n",
      "Kettle Tortilla ChpsHny&Jlpno Chili 150g    3296\n",
      "Cobs Popd Swt/Chlli &Sr/Cream Chips 110g    3269\n",
      "Tyrrells Crisps     Ched & Chives 165g      3268\n",
      "Cobs Popd Sea Salt  Chips 110g              3265\n",
      "                                            ... \n",
      "RRD Pc Sea Salt     165g                    1431\n",
      "Woolworths Medium   Salsa 300g              1430\n",
      "NCC Sour Cream &    Garden Chives 175g      1419\n",
      "French Fries Potato Chips 175g              1418\n",
      "WW Crinkle Cut      Original 175g           1410\n",
      "Name: count, Length: 114, dtype: int64\n"
     ]
    }
   ],
   "source": [
    "product_summary = df['PROD_NAME'].value_counts()\n",
    "\n",
    "print(\"Summary of PROD_NAME:\")\n",
    "print(product_summary)"
   ]
  },
  {
   "cell_type": "code",
   "execution_count": 45,
   "id": "bce2c183-01a1-4c39-9e49-b381903cbbde",
   "metadata": {},
   "outputs": [
    {
     "name": "stdout",
     "output_type": "stream",
     "text": [
      "Sorted Words by Frequency:\n",
      "         word  frequency\n",
      "0        175g      60561\n",
      "1       Chips      49770\n",
      "2        150g      41633\n",
      "3      Kettle      41288\n",
      "4      Smiths      28860\n",
      "..        ...        ...\n",
      "220  Sunbites       1432\n",
      "221        Pc       1431\n",
      "222    Garden       1419\n",
      "223       NCC       1419\n",
      "224     Fries       1418\n",
      "\n",
      "[225 rows x 2 columns]\n"
     ]
    }
   ],
   "source": [
    "import re\n",
    "\n",
    "product_words = ' '.join(df['PROD_NAME'].str.replace('[^a-zA-Z\\s]', '').str.split().sum())\n",
    "\n",
    "product_words = ' '.join(re.findall(r'\\b\\w+\\b', product_words))\n",
    "\n",
    "word_counts = pd.Series(product_words.split()).value_counts().reset_index()      #Took 42.2s to execute\n",
    "word_counts.columns = ['word', 'frequency']\n",
    "\n",
    "sorted_words = word_counts.sort_values(by='frequency', ascending=False)\n",
    "\n",
    "print(\"Sorted Words by Frequency:\")\n",
    "print(sorted_words)\n"
   ]
  },
  {
   "cell_type": "code",
   "execution_count": 47,
   "id": "acde476a-dca4-4a13-9f41-8708300a9ab8",
   "metadata": {},
   "outputs": [],
   "source": [
    "df_chips = df[~df['PROD_NAME'].str.contains('salsa', case=False)]"
   ]
  },
  {
   "cell_type": "code",
   "execution_count": 48,
   "id": "0227c0d0-857e-463d-89b6-86c91319d817",
   "metadata": {},
   "outputs": [
    {
     "name": "stdout",
     "output_type": "stream",
     "text": [
      "<class 'pandas.core.frame.DataFrame'>\n",
      "Index: 246742 entries, 0 to 264835\n",
      "Data columns (total 8 columns):\n",
      " #   Column          Non-Null Count   Dtype         \n",
      "---  ------          --------------   -----         \n",
      " 0   DATE            246742 non-null  datetime64[ns]\n",
      " 1   STORE_NBR       246742 non-null  int64         \n",
      " 2   LYLTY_CARD_NBR  246742 non-null  int64         \n",
      " 3   TXN_ID          246742 non-null  int64         \n",
      " 4   PROD_NBR        246742 non-null  int64         \n",
      " 5   PROD_NAME       246742 non-null  object        \n",
      " 6   PROD_QTY        246742 non-null  int64         \n",
      " 7   TOT_SALES       246742 non-null  float64       \n",
      "dtypes: datetime64[ns](1), float64(1), int64(5), object(1)\n",
      "memory usage: 16.9+ MB\n",
      "Summary Statistics:\n",
      "                                DATE      STORE_NBR  LYLTY_CARD_NBR  \\\n",
      "count                         246742  246742.000000    2.467420e+05   \n",
      "mean   2018-12-30 01:19:01.211467520     135.051098    1.355310e+05   \n",
      "min              2018-07-01 00:00:00       1.000000    1.000000e+03   \n",
      "25%              2018-09-30 00:00:00      70.000000    7.001500e+04   \n",
      "50%              2018-12-30 00:00:00     130.000000    1.303670e+05   \n",
      "75%              2019-03-31 00:00:00     203.000000    2.030840e+05   \n",
      "max              2019-06-30 00:00:00     272.000000    2.373711e+06   \n",
      "std                              NaN      76.787096    8.071528e+04   \n",
      "\n",
      "             TXN_ID       PROD_NBR       PROD_QTY      TOT_SALES  \n",
      "count  2.467420e+05  246742.000000  246742.000000  246742.000000  \n",
      "mean   1.351311e+05      56.351789       1.908062       7.321322  \n",
      "min    1.000000e+00       1.000000       1.000000       1.700000  \n",
      "25%    6.756925e+04      26.000000       2.000000       5.800000  \n",
      "50%    1.351830e+05      53.000000       2.000000       7.400000  \n",
      "75%    2.026538e+05      87.000000       2.000000       8.800000  \n",
      "max    2.415841e+06     114.000000     200.000000     650.000000  \n",
      "std    7.814772e+04      33.695428       0.659831       3.077828  \n",
      "\n",
      "Null Information:\n",
      "None\n"
     ]
    }
   ],
   "source": [
    "summary_stats = df_chips.describe()\n",
    "\n",
    "null_info = df_chips.info()\n",
    "\n",
    "print(\"Summary Statistics:\")\n",
    "print(summary_stats)\n",
    "\n",
    "print(\"\\nNull Information:\")\n",
    "print(null_info)"
   ]
  },
  {
   "cell_type": "code",
   "execution_count": 49,
   "id": "159dd79b-be05-47d9-b1c2-dcf76300e3f1",
   "metadata": {},
   "outputs": [
    {
     "name": "stdout",
     "output_type": "stream",
     "text": [
      "Transactions with 200 Packets of Chips:\n",
      "            DATE  STORE_NBR  LYLTY_CARD_NBR  TXN_ID  PROD_NBR  \\\n",
      "69762 2018-08-19        226          226000  226201         4   \n",
      "69763 2019-05-20        226          226000  226210         4   \n",
      "\n",
      "                              PROD_NAME  PROD_QTY  TOT_SALES  \n",
      "69762  Dorito Corn Chp     Supreme 380g       200      650.0  \n",
      "69763  Dorito Corn Chp     Supreme 380g       200      650.0  \n"
     ]
    }
   ],
   "source": [
    "outlier_transactions = df_chips[df_chips['PROD_QTY'] == 200]\n",
    "\n",
    "print(\"Transactions with 200 Packets of Chips:\")\n",
    "print(outlier_transactions)"
   ]
  },
  {
   "cell_type": "code",
   "execution_count": 50,
   "id": "f16780e6-f38b-4d65-8865-35f5158d45bf",
   "metadata": {},
   "outputs": [
    {
     "name": "stdout",
     "output_type": "stream",
     "text": [
      "Other Transactions by the Same Customer:\n",
      "            DATE  STORE_NBR  LYLTY_CARD_NBR  TXN_ID  PROD_NBR  \\\n",
      "69762 2018-08-19        226          226000  226201         4   \n",
      "69763 2019-05-20        226          226000  226210         4   \n",
      "\n",
      "                              PROD_NAME  PROD_QTY  TOT_SALES  \n",
      "69762  Dorito Corn Chp     Supreme 380g       200      650.0  \n",
      "69763  Dorito Corn Chp     Supreme 380g       200      650.0  \n"
     ]
    }
   ],
   "source": [
    "customer_id = outlier_transactions['LYLTY_CARD_NBR'].iloc[0]\n",
    "\n",
    "other_transactions_by_customer = df_chips[df_chips['LYLTY_CARD_NBR'] == customer_id]\n",
    "\n",
    "print(\"Other Transactions by the Same Customer:\")\n",
    "print(other_transactions_by_customer)"
   ]
  },
  {
   "cell_type": "code",
   "execution_count": 51,
   "id": "6f09e7f1-3393-484f-a54f-2b267d93fdfd",
   "metadata": {},
   "outputs": [
    {
     "name": "stdout",
     "output_type": "stream",
     "text": [
      "<class 'pandas.core.frame.DataFrame'>\n",
      "Index: 246740 entries, 0 to 264835\n",
      "Data columns (total 8 columns):\n",
      " #   Column          Non-Null Count   Dtype         \n",
      "---  ------          --------------   -----         \n",
      " 0   DATE            246740 non-null  datetime64[ns]\n",
      " 1   STORE_NBR       246740 non-null  int64         \n",
      " 2   LYLTY_CARD_NBR  246740 non-null  int64         \n",
      " 3   TXN_ID          246740 non-null  int64         \n",
      " 4   PROD_NBR        246740 non-null  int64         \n",
      " 5   PROD_NAME       246740 non-null  object        \n",
      " 6   PROD_QTY        246740 non-null  int64         \n",
      " 7   TOT_SALES       246740 non-null  float64       \n",
      "dtypes: datetime64[ns](1), float64(1), int64(5), object(1)\n",
      "memory usage: 16.9+ MB\n",
      "Summary Statistics (After Filtering):\n",
      "                                DATE      STORE_NBR  LYLTY_CARD_NBR  \\\n",
      "count                         246740  246740.000000    2.467400e+05   \n",
      "mean   2018-12-30 01:18:58.448569344     135.050361    1.355303e+05   \n",
      "min              2018-07-01 00:00:00       1.000000    1.000000e+03   \n",
      "25%              2018-09-30 00:00:00      70.000000    7.001500e+04   \n",
      "50%              2018-12-30 00:00:00     130.000000    1.303670e+05   \n",
      "75%              2019-03-31 00:00:00     203.000000    2.030832e+05   \n",
      "max              2019-06-30 00:00:00     272.000000    2.373711e+06   \n",
      "std                              NaN      76.786971    8.071520e+04   \n",
      "\n",
      "             TXN_ID       PROD_NBR       PROD_QTY      TOT_SALES  \n",
      "count  2.467400e+05  246740.000000  246740.000000  246740.000000  \n",
      "mean   1.351304e+05      56.352213       1.906456       7.316113  \n",
      "min    1.000000e+00       1.000000       1.000000       1.700000  \n",
      "25%    6.756875e+04      26.000000       2.000000       5.800000  \n",
      "50%    1.351815e+05      53.000000       2.000000       7.400000  \n",
      "75%    2.026522e+05      87.000000       2.000000       8.800000  \n",
      "max    2.415841e+06     114.000000       5.000000      29.500000  \n",
      "std    7.814760e+04      33.695235       0.342499       2.474897  \n",
      "\n",
      "Null Information (After Filtering):\n",
      "None\n"
     ]
    }
   ],
   "source": [
    "customer_id = outlier_transactions['LYLTY_CARD_NBR'].iloc[0]\n",
    "\n",
    "df_filtered = df_chips[df_chips['LYLTY_CARD_NBR'] != customer_id]\n",
    "\n",
    "summary_stats_filtered = df_filtered.describe()\n",
    "\n",
    "null_info_filtered = df_filtered.info()\n",
    "\n",
    "print(\"Summary Statistics (After Filtering):\")\n",
    "print(summary_stats_filtered)\n",
    "\n",
    "print(\"\\nNull Information (After Filtering):\")\n",
    "print(null_info_filtered)"
   ]
  },
  {
   "cell_type": "code",
   "execution_count": 52,
   "id": "4592438d-554e-47f0-8d09-7217ab9a4d41",
   "metadata": {},
   "outputs": [
    {
     "name": "stdout",
     "output_type": "stream",
     "text": [
      "Transaction Count by Date:\n",
      "          DATE  Transaction_Count\n",
      "0   2018-07-01                663\n",
      "1   2018-07-02                650\n",
      "2   2018-07-03                674\n",
      "3   2018-07-04                669\n",
      "4   2018-07-05                660\n",
      "..         ...                ...\n",
      "359 2019-06-26                657\n",
      "360 2019-06-27                669\n",
      "361 2019-06-28                673\n",
      "362 2019-06-29                703\n",
      "363 2019-06-30                704\n",
      "\n",
      "[364 rows x 2 columns]\n"
     ]
    },
    {
     "name": "stderr",
     "output_type": "stream",
     "text": [
      "/var/folders/rc/33mvhtrn2qjbk_2zxqdxz1000000gn/T/ipykernel_42430/1787090736.py:1: SettingWithCopyWarning: \n",
      "A value is trying to be set on a copy of a slice from a DataFrame.\n",
      "Try using .loc[row_indexer,col_indexer] = value instead\n",
      "\n",
      "See the caveats in the documentation: https://pandas.pydata.org/pandas-docs/stable/user_guide/indexing.html#returning-a-view-versus-a-copy\n",
      "  df_filtered['DATE'] = pd.to_datetime(df_filtered['DATE'])\n"
     ]
    }
   ],
   "source": [
    "df_filtered['DATE'] = pd.to_datetime(df_filtered['DATE'])\n",
    "\n",
    "transactions_by_date = df_filtered.groupby('DATE').size().reset_index(name='Transaction_Count')\n",
    "\n",
    "print(\"Transaction Count by Date:\")\n",
    "print(transactions_by_date)"
   ]
  },
  {
   "cell_type": "code",
   "execution_count": 53,
   "id": "625111c8-5bb1-4146-9217-7060941b567b",
   "metadata": {},
   "outputs": [
    {
     "name": "stdout",
     "output_type": "stream",
     "text": [
      "Merged DataFrame:\n",
      "          DATE  Transaction_Count\n",
      "0   2018-07-01              663.0\n",
      "1   2018-07-02              650.0\n",
      "2   2018-07-03              674.0\n",
      "3   2018-07-04              669.0\n",
      "4   2018-07-05              660.0\n",
      "..         ...                ...\n",
      "360 2019-06-26              657.0\n",
      "361 2019-06-27              669.0\n",
      "362 2019-06-28              673.0\n",
      "363 2019-06-29              703.0\n",
      "364 2019-06-30              704.0\n",
      "\n",
      "[365 rows x 2 columns]\n"
     ]
    }
   ],
   "source": [
    "import numpy as np\n",
    "\n",
    "date_sequence = pd.date_range(start='2018-07-01', end='2019-06-30', freq='D')\n",
    "\n",
    "date_df = pd.DataFrame({'DATE': date_sequence})\n",
    "\n",
    "merged_df = pd.merge(date_df, transactions_by_date, on='DATE', how='left').fillna(0)\n",
    "\n",
    "print(\"Merged DataFrame:\")\n",
    "print(merged_df)"
   ]
  },
  {
   "cell_type": "code",
   "execution_count": null,
   "id": "17d2d251-a3b9-443c-b4c8-c0dcca12f903",
   "metadata": {},
   "outputs": [],
   "source": []
  }
 ],
 "metadata": {
  "kernelspec": {
   "display_name": "Python 3 (ipykernel)",
   "language": "python",
   "name": "python3"
  },
  "language_info": {
   "codemirror_mode": {
    "name": "ipython",
    "version": 3
   },
   "file_extension": ".py",
   "mimetype": "text/x-python",
   "name": "python",
   "nbconvert_exporter": "python",
   "pygments_lexer": "ipython3",
   "version": "3.11.5"
  }
 },
 "nbformat": 4,
 "nbformat_minor": 5
}
