{
 "cells": [
  {
   "cell_type": "code",
   "execution_count": 39,
   "id": "2a9d251d-7f27-419b-884d-b054c7995caa",
   "metadata": {},
   "outputs": [],
   "source": [
    "import pandas as pd\n",
    "\n",
    "transactionData = 'QVI_transaction_data.xlsx'\n",
    "df_transactionData = pd.read_excel(transactionData)\n",
    "\n",
    "customerData = 'QVI_purchase_behaviour.csv'\n",
    "df_customerData = pd.read_csv(customerData)"
   ]
  },
  {
   "cell_type": "code",
   "execution_count": 42,
   "id": "7141c31e-f284-4143-a1ba-21d89f545fd0",
   "metadata": {},
   "outputs": [
    {
     "name": "stdout",
     "output_type": "stream",
     "text": [
      "Numeric Check for Transaction Data:\n",
      "        STORE_NBR  LYLTY_CARD_NBR  TXN_ID  PROD_NBR  PROD_QTY  TOT_SALES\n",
      "0            True            True    True      True      True       True\n",
      "1            True            True    True      True      True       True\n",
      "2            True            True    True      True      True       True\n",
      "3            True            True    True      True      True       True\n",
      "4            True            True    True      True      True       True\n",
      "...           ...             ...     ...       ...       ...        ...\n",
      "264831       True            True    True      True      True       True\n",
      "264832       True            True    True      True      True       True\n",
      "264833       True            True    True      True      True       True\n",
      "264834       True            True    True      True      True       True\n",
      "264835       True            True    True      True      True       True\n",
      "\n",
      "[264836 rows x 6 columns]\n",
      "\n",
      "Date Format Check for Transaction Data:\n",
      "0        2018-10-17\n",
      "1        2019-05-14\n",
      "2        2019-05-20\n",
      "3        2018-08-17\n",
      "4        2018-08-18\n",
      "            ...    \n",
      "264831   2019-03-09\n",
      "264832   2018-08-13\n",
      "264833   2018-11-06\n",
      "264834   2018-12-27\n",
      "264835   2018-09-22\n",
      "Name: DATE, Length: 264836, dtype: datetime64[ns]\n"
     ]
    }
   ],
   "source": [
    "import pandas as pd\n",
    "\n",
    "numeric_columns = ['STORE_NBR', 'LYLTY_CARD_NBR', 'TXN_ID', 'PROD_NBR', 'PROD_QTY', 'TOT_SALES']  \n",
    "\n",
    "date_columns = ['DATE']  \n",
    "\n",
    "numeric_check = df_transactionData[numeric_columns].applymap(lambda x: isinstance(x, (int, float)))\n",
    "\n",
    "date_check = pd.to_datetime(df['DATE'], errors='coerce', format='%Y-%m-%d')     #There is no date column in .csv file\n",
    "\n",
    "print(\"Numeric Check for Transaction Data:\")\n",
    "print(numeric_check)\n",
    "\n",
    "print(\"\\nDate Format Check for Transaction Data:\")\n",
    "print(date_check)\n"
   ]
  },
  {
   "cell_type": "code",
   "execution_count": null,
   "id": "1e7a267a-8891-4778-81b3-5b869b75b5ba",
   "metadata": {},
   "outputs": [],
   "source": [
    "numeric_columns = ['LYLTY_CARD_NBR']  \n",
    "numeric_check_csv = df_csv[numeric_columns].applymap(lambda x: isinstance(x, (int, float)))\n",
    "print(\"\\nNumeric Check for CSV:\")\n",
    "print(numeric_check_csv)"
   ]
  }
 ],
 "metadata": {
  "kernelspec": {
   "display_name": "Python 3 (ipykernel)",
   "language": "python",
   "name": "python3"
  },
  "language_info": {
   "codemirror_mode": {
    "name": "ipython",
    "version": 3
   },
   "file_extension": ".py",
   "mimetype": "text/x-python",
   "name": "python",
   "nbconvert_exporter": "python",
   "pygments_lexer": "ipython3",
   "version": "3.11.5"
  }
 },
 "nbformat": 4,
 "nbformat_minor": 5
}
